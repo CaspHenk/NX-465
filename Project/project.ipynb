{
 "cells": [
  {
   "cell_type": "markdown",
   "id": "6f3d4110",
   "metadata": {},
   "source": [
    "## Exercise 0"
   ]
  },
  {
   "cell_type": "code",
   "execution_count": 1,
   "id": "c4605cad",
   "metadata": {},
   "outputs": [],
   "source": [
    "# Imports\n",
    "\n",
    "import numpy as np\n",
    "from time import time"
   ]
  },
  {
   "cell_type": "markdown",
   "id": "9e8beb0e",
   "metadata": {},
   "source": [
    "### Exercise 0.1\n",
    "\n",
    "Write a method that generates P balanced random patterns $p^{\\mu} \\in \\{ -1, 1 \\}^N$, each containing an\n",
    "equal number of +1s and −1s."
   ]
  },
  {
   "cell_type": "code",
   "execution_count": 2,
   "id": "531a2391",
   "metadata": {},
   "outputs": [],
   "source": [
    "def gen_balanced_patterns(p,N) :\n",
    "    '''\n",
    "    Inputs :\n",
    "    p : number of patterns\n",
    "    N : Size of each pattern (must be odd !)\n",
    "    \n",
    "    Outputs :\n",
    "    patterns : np.ndarray of size (p,N)\n",
    "    '''\n",
    "\n",
    "    patterns = np.zeros((p,N), dtype=int)\n",
    "\n",
    "    for i in np.arange(p) :\n",
    "        pattern = np.array([1] * (N // 2) + [-1] * (N // 2))\n",
    "        np.random.shuffle(pattern)\n",
    "        patterns[i] = pattern\n",
    "\n",
    "    return patterns\n"
   ]
  },
  {
   "cell_type": "code",
   "execution_count": 10,
   "id": "514bafbc",
   "metadata": {},
   "outputs": [
    {
     "name": "stdout",
     "output_type": "stream",
     "text": [
      "(50, 3000)\n"
     ]
    }
   ],
   "source": [
    "# Example\n",
    "p = 50\n",
    "N = 3000\n",
    "\n",
    "patterns = gen_balanced_patterns(p,N)\n",
    "\n",
    "print(patterns.shape)"
   ]
  },
  {
   "cell_type": "markdown",
   "id": "c24dfaa1",
   "metadata": {},
   "source": [
    "### Exercise 0.2\n",
    "\n",
    "Write a method that computes the next state $S(t + 1)$ of the network, given the current state $S(t) = (S_1(t), . . . , S_N (t))$ and a set of patterns $p^1, . . . , p^P$, according to Eqs. 1-2.\n"
   ]
  },
  {
   "cell_type": "code",
   "execution_count": 11,
   "id": "44a1cc58",
   "metadata": {},
   "outputs": [],
   "source": [
    "def next_state(S : np.ndarray, patterns : np.ndarray) :\n",
    "\n",
    "    ''' \n",
    "    Inputs :\n",
    "    S : np.ndarray of size (N,1) (state of the network at time i)\n",
    "    patterns : np.ndarray of size (p,N) (patterns that have to be compared to the state)\n",
    "\n",
    "    Output :\n",
    "    next_state : np.ndarray of size (N,1) (state of the network at time i+1)\n",
    "    '''\n",
    "    \n",
    "    N = patterns.shape[1]\n",
    "\n",
    "    # Compute weights array (Eq. 1.1), a p x p symmetric array\n",
    "    w = 1/N * patterns.T @ patterns\n",
    "\n",
    "    # Diagonal has to be 0, as the sum has to be over odd numbers to avoid getting 0 as a result\n",
    "    # Irrelevant as long as you do more than one step\n",
    "    # np.fill_diagonal(w, 0)\n",
    "    # Follow Eq. 1.2 to update state\n",
    "    h = w @ S\n",
    "    next_state = np.sign(h)\n",
    "    \n",
    "    return next_state\n",
    "\n"
   ]
  },
  {
   "cell_type": "markdown",
   "id": "12419c69",
   "metadata": {},
   "source": [
    "### Exercise 0.3"
   ]
  },
  {
   "cell_type": "code",
   "execution_count": 14,
   "id": "84d08e3b",
   "metadata": {},
   "outputs": [],
   "source": [
    "def acc_next_state(S : np.ndarray, patterns : np.ndarray) :\n",
    "\n",
    "    ''' \n",
    "    Inputs :\n",
    "    S : np.ndarray of size (N,1) (state of the network at time i)\n",
    "    patterns : np.ndarray of size (p,N) (patterns that have to be compared to the state)\n",
    "\n",
    "    Output :\n",
    "    next_state : np.ndarray of size (N,1) (state of the network at time i+1)\n",
    "    '''\n",
    "    \n",
    "    p = patterns.shape[0]\n",
    "    N = patterns.shape[1]\n",
    "\n",
    "    # Compute overlap variables\n",
    "    m = 1/N * patterns @ S # (pxN) x (Nx1)\n",
    "    h = patterns.T @ m  # (Nxp) x (px1)\n",
    "    next_state = np.sign(h)\n",
    "    \n",
    "    return next_state"
   ]
  },
  {
   "cell_type": "code",
   "execution_count": 17,
   "id": "52a247c1",
   "metadata": {},
   "outputs": [
    {
     "name": "stdout",
     "output_type": "stream",
     "text": [
      "Time first alg : 0.05081295967102051\n",
      "Time 2nd alg : 0.008022069931030273\n"
     ]
    }
   ],
   "source": [
    "# Time comparison\n",
    "\n",
    "S = np.ones((N,1))\n",
    "\n",
    "start = time()\n",
    "\n",
    "next = next_state(S, patterns)\n",
    "\n",
    "stop = time()\n",
    "\n",
    "acc_next = acc_next_state(S, patterns)\n",
    "\n",
    "end = time()\n",
    "\n",
    "print('Time first alg :', stop - start)\n",
    "print('Time 2nd alg :', end - stop)\n"
   ]
  }
 ],
 "metadata": {
  "kernelspec": {
   "display_name": "EL_MA2",
   "language": "python",
   "name": "python3"
  },
  "language_info": {
   "codemirror_mode": {
    "name": "ipython",
    "version": 3
   },
   "file_extension": ".py",
   "mimetype": "text/x-python",
   "name": "python",
   "nbconvert_exporter": "python",
   "pygments_lexer": "ipython3",
   "version": "3.12.0"
  }
 },
 "nbformat": 4,
 "nbformat_minor": 5
}
